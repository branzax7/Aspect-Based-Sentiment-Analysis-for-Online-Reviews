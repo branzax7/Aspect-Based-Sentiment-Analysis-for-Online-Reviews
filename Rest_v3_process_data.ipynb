{
 "cells": [
  {
   "cell_type": "code",
   "execution_count": 132,
   "metadata": {},
   "outputs": [],
   "source": [
    "import tensorflow as tf\n",
    "from tensorflow.keras.layers import Input, Embedding, LSTM, Bidirectional, Dense, Conv1D, GlobalMaxPooling1D, Flatten, concatenate, Reshape\n",
    "from tensorflow.keras.models import Model\n",
    "from tensorflow.keras.preprocessing.text import Tokenizer\n",
    "from tensorflow.keras.preprocessing.sequence import pad_sequences\n",
    "from keras.metrics import Precision, Recall, Accuracy\n",
    "from tensorflow.keras.callbacks import EarlyStopping, LearningRateScheduler\n",
    "from tensorflow.keras.optimizers import Adam, SGD\n",
    "\n",
    "import torch\n",
    "from torch.nn.utils.rnn import pad_sequence\n",
    "import matplotlib.pyplot as plt\n",
    "\n",
    "from sklearn.preprocessing import OneHotEncoder\n",
    "from sklearn.model_selection import train_test_split\n",
    "\n",
    "import numpy as np\n",
    "import pickle\n",
    "\n",
    "import pandas as pd"
   ]
  },
  {
   "cell_type": "code",
   "execution_count": 133,
   "metadata": {},
   "outputs": [],
   "source": [
    "with open(\"model_raw_data_2\", \"rb\") as fp:\n",
    "    model_raw_data = pickle.load(fp)\n",
    "X_train, X_train_bart, X_test, X_test_bart, y1_train, y1_test, y2_train, y2_test = model_raw_data"
   ]
  },
  {
   "cell_type": "code",
   "execution_count": 134,
   "metadata": {},
   "outputs": [],
   "source": [
    "with open(\"val_raw_data_2\", \"rb\") as fp:\n",
    "    val_raw_data = pickle.load(fp)\n",
    "X_trail, X_trail_bart, y1_trail, y2_trail = val_raw_data"
   ]
  },
  {
   "cell_type": "code",
   "execution_count": 135,
   "metadata": {},
   "outputs": [],
   "source": [
    "def proccess_bart_data(clause_vectors_res):\n",
    "    tf.squeeze(clause_vectors_res[0], axis=0)\n",
    "    clause_vectors_res_2d = [tensor.squeeze(0) for tensor in clause_vectors_res]\n",
    "    clause_vectors_padded = pad_sequence(clause_vectors_res_2d, batch_first=True)\n",
    "    return clause_vectors_padded"
   ]
  },
  {
   "cell_type": "code",
   "execution_count": 136,
   "metadata": {},
   "outputs": [],
   "source": [
    "# def proccess_y_data(output):\n",
    "#     encoder = OneHotEncoder(sparse_output=False)\n",
    "#     output_reshaped = np.array(output).reshape(-1, 1)\n",
    "#     output_one_hot = encoder.fit_transform(output_reshaped)\n",
    "#     return output_one_hot\n",
    "def process_y_data(output):\n",
    "    encoder = OneHotEncoder(sparse_output=False)\n",
    "    output_reshaped = np.array(output).reshape(-1, 1)\n",
    "    output_one_hot = encoder.fit_transform(output_reshaped)\n",
    "    return output_one_hot, encoder"
   ]
  },
  {
   "cell_type": "code",
   "execution_count": 137,
   "metadata": {},
   "outputs": [],
   "source": [
    "X = X_train_bart + X_test_bart + X_trail_bart\n",
    "X = proccess_bart_data(X)\n",
    "X_train_bart_p = X[:len(X_train_bart)]\n",
    "X_test_bart_p = X[len(X_train_bart):len(X_train_bart)+len(X_test_bart)]\n",
    "X_trail_bart_p = X[len(X_train_bart)+len(X_test_bart):]\n",
    "\n",
    "# without # after category\n",
    "y1_train = [category.split('#')[0] for category in y1_train]\n",
    "y1_test = [category.split('#')[0] for category in y1_test]\n",
    "y1_trail = [category.split('#')[0] for category in y1_trail]\n",
    "\n",
    "y1_train_hot, encoder1 = process_y_data(y1_train)\n",
    "y2_train_hot, encoder2 = process_y_data(y2_train)\n",
    "\n",
    "\n",
    "y1_test_hot = encoder1.transform(np.array(y1_test).reshape(-1, 1))\n",
    "y2_test_hot = encoder2.transform(np.array(y2_test).reshape(-1, 1))\n",
    "y1_trail_hot = encoder1.transform(np.array(y1_trail).reshape(-1, 1))\n",
    "y2_trail_hot = encoder2.transform(np.array(y2_trail).reshape(-1, 1))\n",
    "\n",
    "# y1_train_hot = proccess_y_data(y1_train)\n",
    "# y1_test_hot = proccess_y_data(y1_test)\n",
    "# y1_trail_hot = proccess_y_data(y1_trail)\n",
    "\n",
    "# y2_train_hot = proccess_y_data(y2_train)\n",
    "# y2_test_hot = proccess_y_data(y2_test)\n",
    "# y2_trail_hot = proccess_y_data(y2_trail)\n",
    "\n",
    "proccess_data = (X_train_bart_p, X_test_bart_p, y1_train_hot, y1_test_hot, y2_train_hot, y2_test_hot, encoder1, encoder2)\n",
    "with open(\"model_proccess_data_3\", \"wb\") as fp:   #Pickling\n",
    "    pickle.dump(proccess_data, fp)\n",
    "\n",
    "test_output_data = (X_train, X_test, y1_train, y1_test, y2_train, y2_test)\n",
    "with open(\"test_output_data_3\", \"wb\") as fp:   #Pickling\n",
    "    pickle.dump(test_output_data, fp)\n",
    "\n",
    "\n",
    "val_output_data = (X_trail, X_trail_bart_p, y1_trail_hot, y2_trail_hot, y1_trail, y2_trail)\n",
    "with open(\"val_output_data_3\", \"wb\") as fp:   #Pickling\n",
    "    pickle.dump(val_output_data, fp)"
   ]
  }
 ],
 "metadata": {
  "kernelspec": {
   "display_name": "Python 3.10 (myenv)",
   "language": "python",
   "name": "myenv"
  },
  "language_info": {
   "codemirror_mode": {
    "name": "ipython",
    "version": 3
   },
   "file_extension": ".py",
   "mimetype": "text/x-python",
   "name": "python",
   "nbconvert_exporter": "python",
   "pygments_lexer": "ipython3",
   "version": "3.10.13"
  }
 },
 "nbformat": 4,
 "nbformat_minor": 2
}
